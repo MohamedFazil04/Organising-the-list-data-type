{
 "cells": [
  {
   "cell_type": "code",
   "execution_count": 1,
   "id": "57398ffb",
   "metadata": {},
   "outputs": [],
   "source": [
    "car=['suzuki','bmw','audi','toyota','volvo','benz','ferrei',]"
   ]
  },
  {
   "cell_type": "code",
   "execution_count": 2,
   "id": "0e346798",
   "metadata": {},
   "outputs": [
    {
     "name": "stdout",
     "output_type": "stream",
     "text": [
      "['suzuki', 'bmw', 'audi', 'toyota', 'volvo', 'benz', 'ferrei']\n"
     ]
    }
   ],
   "source": [
    "print(car)"
   ]
  },
  {
   "cell_type": "code",
   "execution_count": null,
   "id": "33bbada5",
   "metadata": {},
   "outputs": [],
   "source": [
    "# Temperory Approach : Sorted\n",
    "#Permenant Approach: sort"
   ]
  },
  {
   "cell_type": "code",
   "execution_count": 3,
   "id": "c20f9b6f",
   "metadata": {},
   "outputs": [
    {
     "name": "stdout",
     "output_type": "stream",
     "text": [
      "['audi', 'benz', 'bmw', 'ferrei', 'suzuki', 'toyota', 'volvo']\n"
     ]
    }
   ],
   "source": [
    "print(sorted(car))#Temperory Approach"
   ]
  },
  {
   "cell_type": "code",
   "execution_count": 4,
   "id": "37f13def",
   "metadata": {},
   "outputs": [],
   "source": [
    "car.sort()#Permenant Approach"
   ]
  },
  {
   "cell_type": "code",
   "execution_count": 5,
   "id": "cc8ad997",
   "metadata": {},
   "outputs": [
    {
     "name": "stdout",
     "output_type": "stream",
     "text": [
      "['audi', 'benz', 'bmw', 'ferrei', 'suzuki', 'toyota', 'volvo']\n"
     ]
    }
   ],
   "source": [
    "print(car)"
   ]
  },
  {
   "cell_type": "code",
   "execution_count": 6,
   "id": "625324e0",
   "metadata": {},
   "outputs": [
    {
     "name": "stdout",
     "output_type": "stream",
     "text": [
      "['audi', 'benz', 'bmw', 'ferrei', 'suzuki', 'toyota', 'volvo']\n"
     ]
    }
   ],
   "source": [
    "print(car)"
   ]
  },
  {
   "cell_type": "code",
   "execution_count": null,
   "id": "ac8760e2",
   "metadata": {},
   "outputs": [],
   "source": [
    "# Getting Revers output"
   ]
  },
  {
   "cell_type": "code",
   "execution_count": 9,
   "id": "19db9200",
   "metadata": {},
   "outputs": [],
   "source": [
    "car.reverse()"
   ]
  },
  {
   "cell_type": "code",
   "execution_count": 10,
   "id": "ced243e6",
   "metadata": {},
   "outputs": [
    {
     "name": "stdout",
     "output_type": "stream",
     "text": [
      "['volvo', 'toyota', 'suzuki', 'ferrei', 'bmw', 'benz', 'audi']\n"
     ]
    }
   ],
   "source": [
    "print(car)"
   ]
  },
  {
   "cell_type": "code",
   "execution_count": null,
   "id": "bd0d83a8",
   "metadata": {},
   "outputs": [],
   "source": [
    "# Find out the length"
   ]
  },
  {
   "cell_type": "code",
   "execution_count": 11,
   "id": "f2ec6854",
   "metadata": {},
   "outputs": [
    {
     "data": {
      "text/plain": [
       "7"
      ]
     },
     "execution_count": 11,
     "metadata": {},
     "output_type": "execute_result"
    }
   ],
   "source": [
    "len(car)"
   ]
  },
  {
   "cell_type": "code",
   "execution_count": null,
   "id": "b3fb4a7a",
   "metadata": {},
   "outputs": [],
   "source": [
    "# General Systex of Slicing"
   ]
  },
  {
   "cell_type": "code",
   "execution_count": null,
   "id": "bf9e4b5e",
   "metadata": {},
   "outputs": [],
   "source": [
    "#[Startvalue:StopValue:StepCount]"
   ]
  },
  {
   "cell_type": "code",
   "execution_count": 12,
   "id": "4696e92a",
   "metadata": {},
   "outputs": [],
   "source": [
    "Student=['ran','sai','siva','guru','mani','harun']"
   ]
  },
  {
   "cell_type": "code",
   "execution_count": 13,
   "id": "023fc80f",
   "metadata": {},
   "outputs": [
    {
     "name": "stdout",
     "output_type": "stream",
     "text": [
      "['ran', 'sai', 'siva', 'guru', 'mani', 'harun']\n"
     ]
    }
   ],
   "source": [
    "print(Student)"
   ]
  },
  {
   "cell_type": "code",
   "execution_count": 17,
   "id": "fce38920",
   "metadata": {},
   "outputs": [
    {
     "data": {
      "text/plain": [
       "list"
      ]
     },
     "execution_count": 17,
     "metadata": {},
     "output_type": "execute_result"
    }
   ],
   "source": [
    "type(Student)"
   ]
  },
  {
   "cell_type": "code",
   "execution_count": 18,
   "id": "a8f1dcbd",
   "metadata": {},
   "outputs": [
    {
     "name": "stdout",
     "output_type": "stream",
     "text": [
      "['ran']\n"
     ]
    }
   ],
   "source": [
    "print(Student[0:1])"
   ]
  },
  {
   "cell_type": "code",
   "execution_count": 19,
   "id": "702bff2e",
   "metadata": {},
   "outputs": [
    {
     "name": "stdout",
     "output_type": "stream",
     "text": [
      "['siva', 'guru']\n"
     ]
    }
   ],
   "source": [
    "print(Student[2:4])"
   ]
  },
  {
   "cell_type": "code",
   "execution_count": 21,
   "id": "e9e52634",
   "metadata": {},
   "outputs": [
    {
     "name": "stdout",
     "output_type": "stream",
     "text": [
      "ran\n"
     ]
    }
   ],
   "source": [
    "print(Student[0])"
   ]
  },
  {
   "cell_type": "code",
   "execution_count": null,
   "id": "aab7b4b7",
   "metadata": {},
   "outputs": [],
   "source": []
  }
 ],
 "metadata": {
  "kernelspec": {
   "display_name": "Python 3 (ipykernel)",
   "language": "python",
   "name": "python3"
  },
  "language_info": {
   "codemirror_mode": {
    "name": "ipython",
    "version": 3
   },
   "file_extension": ".py",
   "mimetype": "text/x-python",
   "name": "python",
   "nbconvert_exporter": "python",
   "pygments_lexer": "ipython3",
   "version": "3.9.12"
  }
 },
 "nbformat": 4,
 "nbformat_minor": 5
}
